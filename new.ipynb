{
 "cells": [
  {
   "cell_type": "code",
   "execution_count": 1,
   "metadata": {},
   "outputs": [
    {
     "name": "stderr",
     "output_type": "stream",
     "text": [
      "WARNING:absl:Please consider providing the trackable_obj argument in the from_concrete_functions. Providing without the trackable_obj argument is deprecated and it will use the deprecated conversion path.\n"
     ]
    },
    {
     "ename": "NameError",
     "evalue": "name 'representative_data_gen' is not defined",
     "output_type": "error",
     "traceback": [
      "\u001b[1;31m---------------------------------------------------------------------------\u001b[0m",
      "\u001b[1;31mNameError\u001b[0m                                 Traceback (most recent call last)",
      "Cell \u001b[1;32mIn[1], line 14\u001b[0m\n\u001b[0;32m     12\u001b[0m converter \u001b[38;5;241m=\u001b[39m tf\u001b[38;5;241m.\u001b[39mlite\u001b[38;5;241m.\u001b[39mTFLiteConverter\u001b[38;5;241m.\u001b[39mfrom_concrete_functions([concrete_func])\n\u001b[0;32m     13\u001b[0m converter\u001b[38;5;241m.\u001b[39moptimizations \u001b[38;5;241m=\u001b[39m [tf\u001b[38;5;241m.\u001b[39mlite\u001b[38;5;241m.\u001b[39mOptimize\u001b[38;5;241m.\u001b[39mDEFAULT]\n\u001b[1;32m---> 14\u001b[0m converter\u001b[38;5;241m.\u001b[39mrepresentative_dataset \u001b[38;5;241m=\u001b[39m \u001b[43mrepresentative_data_gen\u001b[49m\n\u001b[0;32m     16\u001b[0m tflite_quant_model \u001b[38;5;241m=\u001b[39m converter\u001b[38;5;241m.\u001b[39mconvert()\n\u001b[0;32m     18\u001b[0m \u001b[38;5;66;03m# Save the quantized model\u001b[39;00m\n",
      "\u001b[1;31mNameError\u001b[0m: name 'representative_data_gen' is not defined"
     ]
    }
   ],
   "source": [
    "# Convert Keras model to a ConcreteFunction\n",
    "import tensorflow as tf\n",
    "model = tf.keras.models.load_model(\"unique_face_expression_model_.h5\", compile=False)\n",
    "\n",
    "@tf.function(input_signature=[tf.TensorSpec(shape=model.inputs[0].shape, dtype=tf.float32)])\n",
    "def model_fn(input_tensor):\n",
    "    return model(input_tensor)\n",
    "\n",
    "concrete_func = model_fn.get_concrete_function()\n",
    "\n",
    "# Convert to TFLite from ConcreteFunction\n",
    "converter = tf.lite.TFLiteConverter.from_concrete_functions([concrete_func])\n",
    "converter.optimizations = [tf.lite.Optimize.DEFAULT]\n",
    "converter.representative_dataset = representative_data_gen\n",
    "\n",
    "tflite_quant_model = converter.convert()\n",
    "\n",
    "# Save the quantized model\n",
    "with open(\"model_quant1.tflite\", \"wb\") as f:\n",
    "    f.write(tflite_quant_model)\n"
   ]
  }
 ],
 "metadata": {
  "kernelspec": {
   "display_name": "Python 3",
   "language": "python",
   "name": "python3"
  },
  "language_info": {
   "codemirror_mode": {
    "name": "ipython",
    "version": 3
   },
   "file_extension": ".py",
   "mimetype": "text/x-python",
   "name": "python",
   "nbconvert_exporter": "python",
   "pygments_lexer": "ipython3",
   "version": "3.12.0"
  }
 },
 "nbformat": 4,
 "nbformat_minor": 2
}
